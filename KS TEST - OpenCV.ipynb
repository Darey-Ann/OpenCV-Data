{
 "cells": [
  {
   "cell_type": "markdown",
   "metadata": {},
   "source": [
    "#### Source: Nadim Kawwa (Feb 14, 2020) :\n",
    "https://towardsdatascience.com/when-to-use-the-kolmogorov-smirnov-test-dd0b2c8a8f61#:~:text=The%20KS%20test%20is%20a,or%20to%20compare%20two%20samples.&text=The%20KS%20test%20is%20used,do%20indeed%20come%20from%20P\n",
    "\n",
    "(Code: https://github.com/NadimKawwa/Statistics)\n"
   ]
  },
  {
   "cell_type": "code",
   "execution_count": 34,
   "metadata": {},
   "outputs": [],
   "source": [
    "# pip install pandas"
   ]
  },
  {
   "cell_type": "code",
   "execution_count": 36,
   "metadata": {},
   "outputs": [],
   "source": [
    "import pandas as pd\n",
    "import numpy as np\n",
    "import matplotlib.pyplot as plt\n",
    "from scipy.stats import ttest_ind\n",
    "import scipy.stats as st\n",
    "\n",
    "#%matplotlib inline\n",
    "#%matplotlib qt # for popup, interactive window"
   ]
  },
  {
   "cell_type": "markdown",
   "metadata": {},
   "source": [
    "Extra info: http://www.stats.ox.ac.uk/~massa/Lecture%2013.pdf , http://www.physics.csbsju.edu/stats/KS-test.html"
   ]
  },
  {
   "cell_type": "markdown",
   "metadata": {},
   "source": [
    "The Kolmogorov–Smirnov (KS) test is a non parametric and distribution free test: It makes no assumption about the distribution of data.\n",
    "The KS test that can be used to compare a sample with with a reference probability distribution, or to compare two samples. In this first section we are going to justify the need for a KS test and how it can account for shortcomings from the student t-test.\n"
   ]
  },
  {
   "cell_type": "markdown",
   "metadata": {},
   "source": [
    "# KS For Two Samples"
   ]
  },
  {
   "cell_type": "markdown",
   "metadata": {},
   "source": [
    "Given two samples, test if their distributions are the same.Compute the observed cumulative distribution functions of the two samples and compute their maximum difference."
   ]
  },
  {
   "cell_type": "markdown",
   "metadata": {},
   "source": [
    "Null Hypothesis: The samples do indeed come from P\n",
    "\n",
    "Alternative Hypothesis: The samples do not come from P\n",
    "\n",
    "If our maximum difference is less than D_Crit we fail to reject the null hypothesis\n",
    "Meaning: if d_crit > d_n, accept null hypothesis."
   ]
  },
  {
   "cell_type": "code",
   "execution_count": 2,
   "metadata": {},
   "outputs": [
    {
     "data": {
      "text/plain": [
       "array([      0,       1,       1,       1,       1,       2,       2,\n",
       "             2,       2,       2,       3,       3,       3,       3,\n",
       "             3,       3,       3,       3,       3,       4,       4,\n",
       "             4,       4,       4,       4,       4,       4,       4,\n",
       "             4,       4,       4,       4,       4,       5,       5,\n",
       "             5,       5,       5,       5,       5,       5,       5,\n",
       "             5,       5,       5,       5,       5,       5,       5,\n",
       "             6,       6,       6,       6,       6,       6,       6,\n",
       "             6,       6,       6,       6,       6,       6,       6,\n",
       "             6,       7,       7,       7,       7,       7,       7,\n",
       "             7,       7,       7,       7,       7,       8,       8,\n",
       "             8,       8,       8,       8,       8,       8,       8,\n",
       "             9,       9,       9,       9,       9,       9,       9,\n",
       "             9,       9,       9,       9,      10,      10,      10,\n",
       "            10,      10,      10,      10,      10,      10,      10,\n",
       "            10,      10,      11,      11,      11,      11,      11,\n",
       "            12,      12,      12,      12,      12,      13,      13,\n",
       "            13,      14,      14,      14,      14,      14,      14,\n",
       "            14,      15,      15,      16,      16,      17,      17,\n",
       "            17,      18,      18,      19,      19,      19,      20,\n",
       "            20,      20,      21,      21,      21,      21,      21,\n",
       "            21,      22,      22,      23,      23,      24,      24,\n",
       "            24,      25,      25,      25,      26,      27,      27,\n",
       "            27,      27,      27,      27,      28,      28,      28,\n",
       "            28,      28,      28,      28,      29,      29,      29,\n",
       "            29,      29,      29,      30,      31,      31,      31,\n",
       "            31,      31,      32,      32,      32,      33,      33,\n",
       "            34,      35,      35,      38,      38,      39,      39,\n",
       "            40,      40,      40,      40,      41,      41,      41,\n",
       "            42,      42,      42,      43,      43,      43,      44,\n",
       "            44,      44,      45,      46,      47,      47,      47,\n",
       "            49,      50,      50,      51,      52,      52,      53,\n",
       "            54,      55,      56,      56,      56,      58,      58,\n",
       "            59,      60,      62,      62,      67,      69,      70,\n",
       "            71,      72,      73,      75,      77,      78,      78,\n",
       "            82,      85,      87,      88,      90,      90,      91,\n",
       "            91,      92,      98,      98,      99,      99,     101,\n",
       "           101,     104,     106,     113,     117,     117,     117,\n",
       "           119,     119,     121,     122,     124,     125,     130,\n",
       "           135,     135,     136,     137,     143,     153,     156,\n",
       "           162,     162,     164,     165,     166,     169,     170,\n",
       "           173,     173,     175,     178,     183,     185,     195,\n",
       "           195,     197,     197,     202,     204,     210,     210,\n",
       "           210,     211,     213,     214,     234,     238,     239,\n",
       "           244,     249,     269,     292,     298,     299,     301,\n",
       "           322,     326,     338,     345,     354,     362,     363,\n",
       "           369,     371,     373,     374,     375,     397,     400,\n",
       "           407,     417,     419,     421,     447,     447,     455,\n",
       "           458,     458,     459,     462,     470,     482,     482,\n",
       "           483,     488,     489,     517,     528,     531,     568,\n",
       "           584,     589,     598,     603,     618,     646,     653,\n",
       "           663,     677,     697,     734,     742,     749,     755,\n",
       "           759,     784,     805,     890,     909,     941,     949,\n",
       "           958,     994,     996,    1008,    1013,    1052,    1055,\n",
       "          1063,    1099,    1127,    1133,    1146,    1164,    1170,\n",
       "          1184,    1233,    1234,    1237,    1280,    1308,    1328,\n",
       "          1350,    1392,    1396,    1493,    1494,    1505,    1510,\n",
       "          1515,    1527,    1532,    1623,    1668,    1669,    1742,\n",
       "          1804,    1813,    1950,    1979,    1990,    2094,    2206,\n",
       "          2318,    2373,    2440,    2468,    2509,    2531,    2552,\n",
       "          2721,    2803,    2806,    2850,    3067,    3141,    3243,\n",
       "          3272,    3501,    3901,    4070,    4214,    4230,    4499,\n",
       "          4537,    6981,    7128,    7381,    7688,    8767,    8782,\n",
       "          9025,   10449,   10572,   11608,   12663,   12745,   13312,\n",
       "         13436,   15354,   15678,   16294,   17893,   18669,   18926,\n",
       "         19517,   20207,   20611,   22194,   28270,   30096,   31498,\n",
       "         31743,   39107,   42986,   43072,   45002,   49091,   52349,\n",
       "         54492,   61670,   69886,   70318,   71306,   80647,   82089,\n",
       "         88409,   96552,  121396,  160943,  172398,  188121,  191566,\n",
       "        261812,  290750,  298403,  313784,  322517,  507046,  725672,\n",
       "        752541,  762686,  836896, 1552152])"
      ]
     },
     "execution_count": 2,
     "metadata": {},
     "output_type": "execute_result"
    }
   ],
   "source": [
    "# Comparison set - interval in minutes\n",
    "x = [762686,5,2,13,5,4,292,7,3067,5,354,135,62,5,2,5,4,4,28270,1328,25,646,10,11,4537,162,5,299,28,6,994,249,43,45002,170,6,1164,6,92,25,46,169,470,9,12,3,7,7,31498,6,10,11,15354,43,6,185,29,459,29,2318,7,734,2,28,42,10,13,22194,13436,9,32,12,7,5,8,1,204,3141,18,8,40,5,21,4,91,40,3,7,11,909,61670,1233,60,21,70318,78,49091,11,49,47,17,417,31,88,19,10449,1280,35,90,211,4,4,17893,4,8,7,447,24,27,4214,117,32,11,8,30096,10,20,2806,40,6,34,42986,9,805,22,39107,62,397,507046,173,183,19517,1,0,5,4,70,18926,1668,1527,8,8,5,122,8,15,13312,10,58,10,890,9,55,44,31,7381,24,3243,28,4230,6,27,4,28,1127,2721,28,82,3,71306,7,3,38,88409,33,447,421,10,27,16,42,1234,8,2,568,9,80647,1623,4,1,322,85,5,5,72,3,197,78,90,45,2,8,244,121,1813,4070,1350,5,12,130,15,3,9,173,322517,30,51,9,121396,29,4,21,3,3,528,10,3,67,175,5,1552152,755,784,1532,210,3501,6]\n",
    "\n",
    "# OpenCV dataset - interval in minutes\n",
    "y = [56,214,1146,104,589,188121,27,8767,7,44,1237,14,1950,5,1505,1184,156,14,197,2850,91,618,20,400,261812,369,373,38,269,29,59,119,31,22,4,1742,23,178,33,1804,238,87,14,363,9,1170,191566,29,1396,135,326,21,20,58,165,18,19,119,3901,374,958,117,113,24,43072,584,31743,8782,759,482,29,6,1990,75,153,28,462,239,98,14,1515,407,12745,17,996,53,371,43,16,10,41,1669,54492,26,137,73,338,836896,56,136,195,50,362,483,3272,14,195,99,143,21,653,162,172398,949,375,742,1979,345,2531,5,2803,82089,6,234,1133,18669,489,106,50,6,9,4,101,31,458,2552,52,2206,1494,7688,1308,39,603,7128,2509,20207,941,12663,44,52,101,9025,488,298403,47,677,313784,52349,290750,531,10,1392,41,11608,17,13,1008,47,10,210,20611,2468,124,96552,213,455,1493,1510,2440,6981,697,2094,6,10572,4499,160943,166,4,1055,10,41,663,117,12,71,40,39,14,31,9,298,725672,6,32,7,1052,1063,28,517,419,12,16294,69,210,6,77,458,21,1,27,25,9,19,202,23,7,2373,56,1099,27,35,164,598,749,1013,99,482,125,6,752541,69886,54,42,15678,14,98,301]\n",
    "\n",
    "x_y = np.sort(np.concatenate((x, y)))\n",
    "x_y"
   ]
  },
  {
   "cell_type": "code",
   "execution_count": 17,
   "metadata": {},
   "outputs": [],
   "source": [
    "x_cdf = [np.round(st.percentileofscore(x, samp)/100, 1) for samp in x_y] # /100 to make the percentiles into fractions\n",
    "y_cdf = [np.round(st.percentileofscore(y, samp)/100, 1) for samp in x_y]"
   ]
  },
  {
   "cell_type": "code",
   "execution_count": 29,
   "metadata": {},
   "outputs": [
    {
     "data": {
      "image/png": "[encoded data removed]",
      "text/plain": [
       "<Figure size 432x288 with 1 Axes>"
      ]
     },
     "metadata": {
      "needs_background": "light"
     },
     "output_type": "display_data"
    }
   ],
   "source": [
    "plt.plot(x_y, x_cdf, label='x', alpha=0.5, marker='o', color='red')\n",
    "plt.plot(x_y, y_cdf, label='y', alpha=0.5, marker='o', color='green')\n",
    "plt.show()"
   ]
  },
  {
   "cell_type": "code",
   "execution_count": 19,
   "metadata": {},
   "outputs": [
    {
     "data": {
      "text/plain": [
       "array([0. , 0. , 0. , 0. , 0. , 0. , 0. , 0. , 0. , 0. , 0.1, 0.1, 0.1,\n",
       "       0.1, 0.1, 0.1, 0.1, 0.1, 0.1, 0.1, 0.1, 0.1, 0.1, 0.1, 0.1, 0.1,\n",
       "       0.1, 0.1, 0.1, 0.1, 0.1, 0.1, 0.1, 0.1, 0.1, 0.1, 0.1, 0.1, 0.1,\n",
       "       0.1, 0.1, 0.1, 0.1, 0.1, 0.1, 0.1, 0.1, 0.1, 0.1, 0.2, 0.2, 0.2,\n",
       "       0.2, 0.2, 0.2, 0.2, 0.2, 0.2, 0.2, 0.2, 0.2, 0.2, 0.2, 0.2, 0.1,\n",
       "       0.1, 0.1, 0.1, 0.1, 0.1, 0.1, 0.1, 0.1, 0.1, 0.1, 0.2, 0.2, 0.2,\n",
       "       0.2, 0.2, 0.2, 0.2, 0.2, 0.2, 0.2, 0.2, 0.2, 0.2, 0.2, 0.2, 0.2,\n",
       "       0.2, 0.2, 0.2, 0.2, 0.2, 0.2, 0.2, 0.2, 0.2, 0.2, 0.2, 0.2, 0.2,\n",
       "       0.2, 0.2, 0.2, 0.2, 0.2, 0.2, 0.2, 0.2, 0.3, 0.3, 0.3, 0.3, 0.3,\n",
       "       0.3, 0.3, 0.3, 0.3, 0.3, 0.3, 0.3, 0.3, 0.3, 0.3, 0.3, 0.3, 0.3,\n",
       "       0.3, 0.3, 0.3, 0.3, 0.2, 0.2, 0.2, 0.2, 0.2, 0.2, 0.2, 0.2, 0.2,\n",
       "       0.2, 0.2, 0.2, 0.2, 0.2, 0.2, 0.2, 0.2, 0.2, 0.2, 0.2, 0.2, 0.2,\n",
       "       0.2, 0.2, 0.2, 0.2, 0.2, 0.2, 0.2, 0.2, 0.2, 0.3, 0.3, 0.3, 0.3,\n",
       "       0.3, 0.3, 0.3, 0.3, 0.3, 0.3, 0.3, 0.3, 0.3, 0.3, 0.3, 0.3, 0.3,\n",
       "       0.3, 0.3, 0.2, 0.2, 0.2, 0.2, 0.2, 0.2, 0.2, 0.2, 0.2, 0.2, 0.2,\n",
       "       0.2, 0.2, 0.2, 0.2, 0.2, 0.2, 0.2, 0.2, 0.2, 0.2, 0.2, 0.2, 0.2,\n",
       "       0.2, 0.3, 0.3, 0.3, 0.3, 0.3, 0.3, 0.3, 0.3, 0.3, 0.3, 0.3, 0.3,\n",
       "       0.3, 0.3, 0.3, 0.3, 0.3, 0.3, 0.3, 0.3, 0.2, 0.2, 0.2, 0.2, 0.2,\n",
       "       0.2, 0.2, 0.2, 0.2, 0.2, 0.2, 0.2, 0.2, 0.2, 0.2, 0.2, 0.2, 0.2,\n",
       "       0.2, 0.2, 0.2, 0.2, 0.2, 0.2, 0.2, 0.2, 0.2, 0.2, 0.2, 0.2, 0.2,\n",
       "       0.2, 0.2, 0.2, 0.2, 0.2, 0.2, 0.2, 0.2, 0.2, 0.3, 0.3, 0.3, 0.3,\n",
       "       0.2, 0.2, 0.2, 0.2, 0.2, 0.2, 0.2, 0.2, 0.2, 0.2, 0.2, 0.2, 0.2,\n",
       "       0.2, 0.2, 0.2, 0.2, 0.2, 0.2, 0.2, 0.2, 0.2, 0.2, 0.2, 0.2, 0.2,\n",
       "       0.2, 0.2, 0.2, 0.2, 0.2, 0.2, 0.2, 0.2, 0.2, 0.2, 0.2, 0.2, 0.2,\n",
       "       0.2, 0.2, 0.1, 0.1, 0.1, 0.1, 0.1, 0.1, 0.1, 0.1, 0.1, 0.1, 0.1,\n",
       "       0.1, 0.1, 0.1, 0.1, 0.1, 0.1, 0.1, 0.1, 0.2, 0.2, 0.2, 0.2, 0.2,\n",
       "       0.2, 0.2, 0.2, 0.2, 0.2, 0.2, 0.2, 0.2, 0.2, 0.2, 0.2, 0.2, 0.1,\n",
       "       0.1, 0.1, 0.1, 0.1, 0.1, 0.1, 0.1, 0.1, 0.1, 0.1, 0.1, 0.1, 0.1,\n",
       "       0.1, 0.1, 0.1, 0.1, 0.1, 0.1, 0.1, 0.1, 0.1, 0.1, 0.1, 0.1, 0.1,\n",
       "       0.1, 0.1, 0.1, 0.1, 0.1, 0.1, 0.1, 0.1, 0. , 0. , 0. , 0. , 0. ,\n",
       "       0. , 0. , 0. , 0. , 0. , 0. , 0. , 0. , 0. , 0. , 0. , 0. , 0. ,\n",
       "       0. , 0. , 0. , 0. , 0.1, 0.1, 0.1, 0.1, 0.1, 0.1, 0.1, 0.1, 0.1,\n",
       "       0.1, 0.1, 0.1, 0.1, 0.1, 0. , 0. , 0. , 0. , 0. , 0. , 0. , 0. ,\n",
       "       0. , 0. , 0. , 0. , 0. , 0. , 0. , 0. , 0. , 0. , 0. , 0. , 0. ,\n",
       "       0. , 0. , 0. , 0. , 0. , 0. , 0. , 0. , 0. , 0. , 0. , 0. , 0. ,\n",
       "       0. , 0. , 0. , 0. , 0. , 0. , 0. , 0. , 0. , 0.1, 0.1, 0.1, 0.1,\n",
       "       0.1, 0.1, 0.1, 0.1, 0.1, 0.1, 0.1, 0. , 0. , 0. , 0. , 0. , 0. ,\n",
       "       0. , 0. , 0. , 0. , 0. , 0. , 0. , 0. , 0. , 0. , 0. , 0. , 0. ])"
      ]
     },
     "execution_count": 19,
     "metadata": {},
     "output_type": "execute_result"
    }
   ],
   "source": [
    "abs_diff_example = np.abs(np.subtract(x_cdf, y_cdf))\n",
    "abs_diff_example"
   ]
  },
  {
   "cell_type": "code",
   "execution_count": 20,
   "metadata": {},
   "outputs": [
    {
     "name": "stdout",
     "output_type": "stream",
     "text": [
      "0.30000000000000004\n"
     ]
    }
   ],
   "source": [
    "print(max(abs_diff_example)) # this is d_n"
   ]
  },
  {
   "cell_type": "code",
   "execution_count": 25,
   "metadata": {},
   "outputs": [
    {
     "data": {
      "image/png": "[encoded data removed]",
      "text/plain": [
       "<Figure size 720x360 with 1 Axes>"
      ]
     },
     "metadata": {
      "needs_background": "light"
     },
     "output_type": "display_data"
    }
   ],
   "source": [
    "plt.figure(figsize=(10, 5))\n",
    "plt.plot(x_y, x_cdf, label='Comparison sample')\n",
    "plt.plot(x_y, y_cdf, label='OpenCV sample')\n",
    "\n",
    "for val, p1, p2 in zip(x_y, x_cdf, y_cdf):\n",
    "    plt.plot([val, val], [p1, p2], color='green', alpha=0.2)\n",
    "\n",
    "plt.legend()\n",
    "plt.ylabel(\"F(x)\")\n",
    "plt.xlabel('x')\n",
    "plt.title(\"KS Goodness of Fit for 2 Samples\")\n",
    "\n",
    "plt.show()"
   ]
  },
  {
   "cell_type": "code",
   "execution_count": 22,
   "metadata": {},
   "outputs": [],
   "source": [
    "def d_crit_two_way(arr1, arr2):\n",
    "    return 1.36*np.sqrt(len(arr1)**-1 + len(arr2)**-1)"
   ]
  },
  {
   "cell_type": "code",
   "execution_count": 23,
   "metadata": {},
   "outputs": [
    {
     "data": {
      "text/plain": [
       "0.12237858562111055"
      ]
     },
     "execution_count": 23,
     "metadata": {},
     "output_type": "execute_result"
    }
   ],
   "source": [
    "d_crit_two_way(x, y)"
   ]
  },
  {
   "cell_type": "markdown",
   "metadata": {},
   "source": [
    "0.12237858562111055 < 0.30000000000000004\n",
    "\n",
    "d_crit < d_n\n",
    "\n",
    "\n",
    "\n",
    "\n",
    "So reject the null hypothesis that the Comparison set and OpenCV dataset are drawn from the same distribution.\n",
    "\n",
    "Conclusion: Their differences are statistically significant."
   ]
  },
  {
   "cell_type": "code",
   "execution_count": null,
   "metadata": {},
   "outputs": [],
   "source": []
  }
 ],
 "metadata": {
  "kernelspec": {
   "display_name": "Python 3",
   "language": "python",
   "name": "python3"
  },
  "language_info": {
   "codemirror_mode": {
    "name": "ipython",
    "version": 3
   },
   "file_extension": ".py",
   "mimetype": "text/x-python",
   "name": "python",
   "nbconvert_exporter": "python",
   "pygments_lexer": "ipython3",
   "version": "3.9.2"
  }
 },
 "nbformat": 4,
 "nbformat_minor": 2
}
